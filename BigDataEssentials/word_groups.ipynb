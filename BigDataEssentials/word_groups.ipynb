{
 "cells": [
  {
   "cell_type": "code",
   "execution_count": 41,
   "metadata": {},
   "outputs": [
    {
     "name": "stdout",
     "output_type": "stream",
     "text": [
      "Overwriting mapper.py\n"
     ]
    }
   ],
   "source": [
    "%%writefile mapper.py\n",
    "\n",
    "import sys\n",
    "import re\n",
    "\n",
    "reload(sys)\n",
    "sys.setdefaultencoding('utf-8') # required to convert to unicode\n",
    "\n",
    "with open('/datasets/stop_words_en.txt') as f:\n",
    "    stop_words = set(f.read().split())\n",
    "\n",
    "for line in sys.stdin:\n",
    "    try:\n",
    "        article_id, text = unicode(line.strip()).split('\\t', 1)\n",
    "    except ValueError as e:\n",
    "        continue\n",
    "    words = re.split(\"\\W*\\s+\\W*\", text, flags=re.UNICODE)\n",
    "    for word in words:\n",
    "        if word in stop_words or len(word)==1:\n",
    "            print >> sys.stderr, \"reporter:counter:Wiki stats,Total words,%d\" % 1\n",
    "        else:\n",
    "            print >> sys.stderr, \"reporter:counter:Wiki stats,Total words,%d\" % 1\n",
    "            print \"%s\\t%s\\t%d\" % (''.join(sorted(word.lower())), word.lower(), 1)"
   ]
  },
  {
   "cell_type": "code",
   "execution_count": null,
   "metadata": {},
   "outputs": [],
   "source": []
  },
  {
   "cell_type": "code",
   "execution_count": 42,
   "metadata": {},
   "outputs": [
    {
     "name": "stdout",
     "output_type": "stream",
     "text": [
      "Overwriting reducer.py\n"
     ]
    }
   ],
   "source": [
    "%%writefile reducer.py\n",
    "\n",
    "\n",
    "import sys\n",
    "import re\n",
    "\n",
    "reload(sys)\n",
    "sys.setdefaultencoding('utf-8') # required to convert to unicode\n",
    "\n",
    "current_key = None\n",
    "current_cnt = 0\n",
    "words_set = set()\n",
    "\n",
    "for line in sys.stdin:\n",
    "    try:\n",
    "        key, cnt, word = unicode(line.strip()).split('\\t')\n",
    "        cnt = int(cnt)\n",
    "    except ValueError as e:\n",
    "        continue\n",
    "    \n",
    "    if current_key != key:\n",
    "        if current_key and (len(words_set) > 1):\n",
    "            print \"%d\\t%d\\t%s\" % (current_cnt, len(words_set), ','.join(sorted(words_set)))\n",
    "        current_key = key\n",
    "        words_set = set()\n",
    "        words_set.add(word)\n",
    "        current_cnt = cnt\n",
    "    else:\n",
    "        words_set.add(word)\n",
    "        current_cnt += cnt\n",
    "        \n",
    "print \"%d\\t%d\\t%s\" % (current_cnt, len(words_set), ','.join(sorted(words_set)))"
   ]
  },
  {
   "cell_type": "code",
   "execution_count": null,
   "metadata": {},
   "outputs": [],
   "source": []
  },
  {
   "cell_type": "code",
   "execution_count": 47,
   "metadata": {},
   "outputs": [
    {
     "name": "stderr",
     "output_type": "stream",
     "text": [
      "18/04/27 02:04:25 INFO client.RMProxy: Connecting to ResourceManager at /0.0.0.0:8032\n",
      "18/04/27 02:04:25 INFO client.RMProxy: Connecting to ResourceManager at /0.0.0.0:8032\n",
      "18/04/27 02:04:26 INFO mapred.FileInputFormat: Total input files to process : 1\n",
      "18/04/27 02:04:26 INFO mapreduce.JobSubmitter: number of splits:2\n",
      "18/04/27 02:04:27 INFO mapreduce.JobSubmitter: Submitting tokens for job: job_1524702992247_0013\n",
      "18/04/27 02:04:27 INFO impl.YarnClientImpl: Submitted application application_1524702992247_0013\n",
      "18/04/27 02:04:27 INFO mapreduce.Job: The url to track the job: http://4982f6c0e4f0:8088/proxy/application_1524702992247_0013/\n",
      "18/04/27 02:04:27 INFO mapreduce.Job: Running job: job_1524702992247_0013\n",
      "18/04/27 02:04:33 INFO mapreduce.Job: Job job_1524702992247_0013 running in uber mode : false\n",
      "18/04/27 02:04:33 INFO mapreduce.Job:  map 0% reduce 0%\n",
      "18/04/27 02:04:49 INFO mapreduce.Job:  map 20% reduce 0%\n",
      "18/04/27 02:04:55 INFO mapreduce.Job:  map 31% reduce 0%\n",
      "18/04/27 02:05:01 INFO mapreduce.Job:  map 41% reduce 0%\n",
      "18/04/27 02:05:07 INFO mapreduce.Job:  map 51% reduce 0%\n",
      "18/04/27 02:05:13 INFO mapreduce.Job:  map 62% reduce 0%\n",
      "18/04/27 02:05:18 INFO mapreduce.Job:  map 80% reduce 0%\n",
      "18/04/27 02:05:19 INFO mapreduce.Job:  map 100% reduce 0%\n",
      "18/04/27 02:05:30 INFO mapreduce.Job:  map 100% reduce 25%\n",
      "18/04/27 02:05:31 INFO mapreduce.Job:  map 100% reduce 50%\n",
      "18/04/27 02:05:32 INFO mapreduce.Job:  map 100% reduce 100%\n",
      "18/04/27 02:05:34 INFO mapreduce.Job: Job job_1524702992247_0013 completed successfully\n",
      "18/04/27 02:05:34 INFO mapreduce.Job: Counters: 51\n",
      "\tFile System Counters\n",
      "\t\tFILE: Number of bytes read=279402735\n",
      "\t\tFILE: Number of bytes written=419894144\n",
      "\t\tFILE: Number of read operations=0\n",
      "\t\tFILE: Number of large read operations=0\n",
      "\t\tFILE: Number of write operations=0\n",
      "\t\tHDFS: Number of bytes read=76874501\n",
      "\t\tHDFS: Number of bytes written=39\n",
      "\t\tHDFS: Number of read operations=18\n",
      "\t\tHDFS: Number of large read operations=0\n",
      "\t\tHDFS: Number of write operations=8\n",
      "\tJob Counters \n",
      "\t\tKilled reduce tasks=1\n",
      "\t\tLaunched map tasks=2\n",
      "\t\tLaunched reduce tasks=4\n",
      "\t\tData-local map tasks=2\n",
      "\t\tTotal time spent by all maps in occupied slots (ms)=88323\n",
      "\t\tTotal time spent by all reduces in occupied slots (ms)=36272\n",
      "\t\tTotal time spent by all map tasks (ms)=88323\n",
      "\t\tTotal time spent by all reduce tasks (ms)=36272\n",
      "\t\tTotal vcore-milliseconds taken by all map tasks=88323\n",
      "\t\tTotal vcore-milliseconds taken by all reduce tasks=36272\n",
      "\t\tTotal megabyte-milliseconds taken by all map tasks=90442752\n",
      "\t\tTotal megabyte-milliseconds taken by all reduce tasks=37142528\n",
      "\tMap-Reduce Framework\n",
      "\t\tMap input records=4100\n",
      "\t\tMap output records=7196989\n",
      "\t\tMap output bytes=125291420\n",
      "\t\tMap output materialized bytes=139685468\n",
      "\t\tInput split bytes=228\n",
      "\t\tCombine input records=0\n",
      "\t\tCombine output records=0\n",
      "\t\tReduce input groups=369596\n",
      "\t\tReduce shuffle bytes=139685468\n",
      "\t\tReduce input records=7196989\n",
      "\t\tReduce output records=4\n",
      "\t\tSpilled Records=21590967\n",
      "\t\tShuffled Maps =8\n",
      "\t\tFailed Shuffles=0\n",
      "\t\tMerged Map outputs=8\n",
      "\t\tGC time elapsed (ms)=842\n",
      "\t\tCPU time spent (ms)=179440\n",
      "\t\tPhysical memory (bytes) snapshot=1489227776\n",
      "\t\tVirtual memory (bytes) snapshot=12139401216\n",
      "\t\tTotal committed heap usage (bytes)=980942848\n",
      "\tShuffle Errors\n",
      "\t\tBAD_ID=0\n",
      "\t\tCONNECTION=0\n",
      "\t\tIO_ERROR=0\n",
      "\t\tWRONG_LENGTH=0\n",
      "\t\tWRONG_MAP=0\n",
      "\t\tWRONG_REDUCE=0\n",
      "\tWiki stats\n",
      "\t\tTotal words=11937375\n",
      "\tFile Input Format Counters \n",
      "\t\tBytes Read=76874273\n",
      "\tFile Output Format Counters \n",
      "\t\tBytes Written=39\n",
      "18/04/27 02:05:34 INFO streaming.StreamJob: Output directory: word_cn\n"
     ]
    }
   ],
   "source": [
    "%%bash\n",
    "\n",
    "OUT_DIR=\"word_cn\"\n",
    "NUM_REDUCERS=4\n",
    "\n",
    "# echo ${OUT_DIR}\n",
    "\n",
    "hdfs dfs -rm -r -skipTrash ${OUT_DIR} > /dev/null\n",
    "\n",
    "yarn jar /opt/cloudera/parcels/CDH/lib/hadoop-mapreduce/hadoop-streaming.jar \\\n",
    "    -D mapred.jab.name=\"Streaming wordCount\" \\\n",
    "    -D mapreduce.job.reduces=${NUM_REDUCERS} \\\n",
    "    -files mapper.py,reducer.py \\\n",
    "    -mapper \"python mapper.py\" \\\n",
    "    -reducer \"python reducer.py\" \\\n",
    "    -input /data/wiki/en_articles_part \\\n",
    "    -output ${OUT_DIR} > /dev/null\n",
    "\n",
    "hdfs dfs -cat word_cn/* | grep -P '(,|\\t)english($|,)'\n"
   ]
  },
  {
   "cell_type": "code",
   "execution_count": null,
   "metadata": {},
   "outputs": [],
   "source": []
  },
  {
   "cell_type": "code",
   "execution_count": null,
   "metadata": {},
   "outputs": [],
   "source": []
  },
  {
   "cell_type": "code",
   "execution_count": null,
   "metadata": {},
   "outputs": [],
   "source": []
  },
  {
   "cell_type": "code",
   "execution_count": null,
   "metadata": {},
   "outputs": [],
   "source": []
  },
  {
   "cell_type": "code",
   "execution_count": null,
   "metadata": {},
   "outputs": [],
   "source": []
  },
  {
   "cell_type": "code",
   "execution_count": null,
   "metadata": {},
   "outputs": [],
   "source": []
  },
  {
   "cell_type": "code",
   "execution_count": null,
   "metadata": {},
   "outputs": [],
   "source": []
  }
 ],
 "metadata": {
  "kernelspec": {
   "display_name": "Python 2",
   "language": "python",
   "name": "python2"
  },
  "language_info": {
   "codemirror_mode": {
    "name": "ipython",
    "version": 2
   },
   "file_extension": ".py",
   "mimetype": "text/x-python",
   "name": "python",
   "nbconvert_exporter": "python",
   "pygments_lexer": "ipython2",
   "version": "2.7.12"
  }
 },
 "nbformat": 4,
 "nbformat_minor": 2
}
